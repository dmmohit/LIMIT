{
 "cells": [
  {
   "cell_type": "code",
   "execution_count": null,
   "metadata": {},
   "outputs": [],
   "source": [
    "import numpy as np\n",
    "import matplotlib.pyplot as plt\n",
    "from matplotlib import colors"
   ]
  },
  {
   "cell_type": "code",
   "execution_count": null,
   "metadata": {},
   "outputs": [],
   "source": [
    "with open('CO_map_z1.500.bin', 'rb') as f:\n",
    "    N = np.fromfile (f, count=3, dtype=np.uint64)\n",
    "    N1,N2,N3 = N\n",
    "    grid_spacing = np.fromfile (f, count=1, dtype=np.float32)\n",
    "    data = np.fromfile (f, count=N1*N2*N3, dtype=np.float32)\n",
    "data = data.reshape ((N1,N2,N3), order='C')"
   ]
  },
  {
   "cell_type": "code",
   "execution_count": null,
   "metadata": {},
   "outputs": [],
   "source": [
    "num = np.random.randint(N[2])\n",
    "\n",
    "fig, ax = plt.subplots(figsize = (10,10))\n",
    "\n",
    "ticklabels = np.arange(0,N[0],50)\n",
    "ticks = ticklabels/grid_spacing\n",
    "\n",
    "co = ax.imshow(data[:,:,num],\n",
    "               cmap='afmhot',\n",
    "               norm=colors.SymLogNorm(linthresh = 1e-2)\n",
    "               )\n",
    "cb = fig.colorbar(co, ax = ax,\n",
    "                  shrink = 0.7\n",
    "                  )\n",
    "cb.set_label(label = r'$T_b$ ($\\mu K$)', fontsize = 18)\n",
    "\n",
    "ax.invert_yaxis()\n",
    "ax.set_xlabel('(cMpc)', fontsize = 15)\n",
    "ax.set_ylabel('(cMpc)', fontsize = 15)\n",
    "ax.set_xticks(ticks)\n",
    "ax.set_yticks(ticks)\n",
    "ax.set_xticklabels(ticklabels, fontsize = 12)\n",
    "ax.set_yticklabels(ticklabels, fontsize = 12)\n",
    "\n",
    "plt.show()"
   ]
  }
 ],
 "metadata": {
  "kernelspec": {
   "display_name": "base",
   "language": "python",
   "name": "python3"
  },
  "language_info": {
   "codemirror_mode": {
    "name": "ipython",
    "version": 3
   },
   "file_extension": ".py",
   "mimetype": "text/x-python",
   "name": "python",
   "nbconvert_exporter": "python",
   "pygments_lexer": "ipython3",
   "version": "3.12.4"
  }
 },
 "nbformat": 4,
 "nbformat_minor": 2
}
